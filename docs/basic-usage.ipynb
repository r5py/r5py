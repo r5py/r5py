{
 "cells": [
  {
   "cell_type": "markdown",
   "id": "f1c4253e",
   "metadata": {},
   "source": [
    "# Usage"
   ]
  },
  {
   "cell_type": "markdown",
   "id": "9319e933",
   "metadata": {
    "tags": [
     "remove-cell"
    ]
   },
   "source": [
    "## Command line utility\n",
    "\n",
    "TODO"
   ]
  },
  {
   "cell_type": "markdown",
   "id": "0b7459d8",
   "metadata": {
    "tags": [
     "remove-cell"
    ]
   },
   "source": [
    "```bash\n",
    "$ r5py travel-time-matrix somewhere.osm.pbf somehwere_gtfs.zip --origins grid-centroids.gpkg ...\n",
    "```"
   ]
  },
  {
   "cell_type": "code",
   "execution_count": null,
   "id": "439ee015",
   "metadata": {
    "nbsphinx": "hidden",
    "tags": [
     "remove-cell"
    ]
   },
   "outputs": [],
   "source": [
    "# this cell is hidden from output\n",
    "# it’s used to \n",
    "# - set sys.path to point to the local repo\n",
    "# - make ipython show all outputs of each cell\n",
    "# - provide a helper function to unobstrusively plot geometries\n",
    "\n",
    "# - set sys.path to point to the local repo\n",
    "import os.path\n",
    "import sys\n",
    "sys.path.append(\n",
    "    os.path.join(\n",
    "        os.path.abspath(\"\"),  # directory of __file__,\n",
    "        \"../src/\"\n",
    "    )\n",
    ")\n",
    "\n",
    "\n",
    "# - make ipython show all outputs of each cell\n",
    "get_ipython().ast_node_interactivity = \"all\"\n",
    "\n",
    "\n",
    "# - provide a helper function to unobstrusively plot geometries\n",
    "import contextily\n",
    "import geopandas\n",
    "import matplotlib.pyplot\n",
    "import shapely.geometry\n",
    "\n",
    "def plot(*what_to_plot):\n",
    "    fig, ax = matplotlib.pyplot.subplots(figsize = (10,10))\n",
    "    for what in what_to_plot:\n",
    "        if isinstance(what, shapely.geometry.base.BaseGeometry):\n",
    "            what = geopandas.GeoDataFrame({\"geometry\": [what]}, crs=\"EPSG:4326\")\n",
    "        what.to_crs(\"EPSG:3875\").plot(\n",
    "            ax=ax,\n",
    "            edgecolor=\"#2a65b8ff\",\n",
    "            facecolor=\"#3388ff33\",\n",
    "            linewidth=3,\n",
    "            markersize=8\n",
    "        )\n",
    "    ax.set_axis_off()\n",
    "    contextily.add_basemap(\n",
    "        ax, \n",
    "        crs=\"EPSG:3875\", \n",
    "        source=contextily.providers.OpenStreetMap.Mapnik,\n",
    "        zoom=16\n",
    "    )\n",
    "    return ax"
   ]
  },
  {
   "cell_type": "markdown",
   "id": "cd224d77",
   "metadata": {},
   "source": [
    "## Python\n",
    "R5py exposes some of R5’s functionality via its [Python API](reference.html), in a syntax similar to r5r’s. At the time of this writing, only the computation of travel time matrices has been fully implemented."
   ]
  },
  {
   "cell_type": "markdown",
   "id": "53f7a7cc",
   "metadata": {
    "tags": []
   },
   "source": [
    "### Load transport network\n",
    "\n",
    "Virtually all operations of r5py require a transport network. As input files to construct a transport network topology, r5py needs the following data sets:\n",
    "\n",
    "- The street network in the form of an OpenStreetMap extract covering the study area, prepared according to the instructions at https://docs.conveyal.com/prepare-inputs#preparing-the-osm-data, and possibly annotated with LADOT tags (see https://github.com/RSGInc/ladot_analysis_dataprep).\n",
    "- Public transport schedules in GTFS format (optional, r5py can combine multiple GTFS files)\n",
    "\n",
    "In this example, we use data from Helsinki metropolitan area, which you can find in the source code repository of r5py in `docs/data/`. The street network is a cropped and filtered extract of OpenStreetMap (© OpenStreetMap contributors, [ODbL license](https://www.openstreetmap.org/copyright)), the GTFS transport schedule is a cropped and minimised copy of Helsingin seudun liikenne’s (HSL) open data set [Creative Commons BY 4.0](https://www.hsl.fi/hsl/avoin-data#aineistojen-kayttoehdot).\n",
    "\n",
    "To import the street and public transport networks, instantiate an `r5py.TransportNetwork` with the file paths to the OSM extract and the GTFS files:"
   ]
  },
  {
   "cell_type": "code",
   "execution_count": null,
   "id": "846bfb43",
   "metadata": {},
   "outputs": [],
   "source": [
    "from r5py import TransportNetwork\n",
    "\n",
    "transport_network = TransportNetwork(\n",
    "    \"data/kantakaupunki.osm.pbf\",\n",
    "    [\n",
    "        \"data/GTFS.zip\"\n",
    "    ]\n",
    ")"
   ]
  },
  {
   "cell_type": "markdown",
   "id": "d7b1101f-1f01-462a-9ee2-aa3522d0bdd5",
   "metadata": {},
   "source": [
    "### Compute a travel time matrix\n",
    "\n",
    "A travel time matrix is a data set detailing the travel costs (e.g., time) from each point to each point in a set of origins and destinations in a study area. \n",
    "\n",
    "For the sake of this exercise, we will create a regular grid of points covering parts of Helsinki."
   ]
  },
  {
   "cell_type": "code",
   "execution_count": null,
   "id": "e7ab7dde-aebb-483f-974b-d0382a5ab7c1",
   "metadata": {},
   "outputs": [],
   "source": [
    "import itertools\n",
    "import geopandas\n",
    "import numpy\n",
    "\n",
    "south_west = (24.91, 60.19)\n",
    "north_east = (24.97, 60.24)\n",
    "\n",
    "coordinates =  itertools.product(\n",
    "    numpy.arange(south_west[0], north_east[0], 0.005),\n",
    "    numpy.arange(south_west[1], north_east[1], 0.005)\n",
    ")\n",
    "\n",
    "x, y = zip(*coordinates)\n",
    "\n",
    "grid_points = geopandas.GeoDataFrame({\n",
    "    \"id\": range(len(list(x))),\n",
    "    \"geometry\": geopandas.GeoSeries.from_xy(\n",
    "     x, y, crs=\"EPSG:4326\"\n",
    "    ),\n",
    "    \n",
    "})\n",
    "\n",
    "grid_points"
   ]
  },
  {
   "cell_type": "code",
   "execution_count": null,
   "id": "66d5a28e-63cb-4bf0-9e2e-f064f5d216d5",
   "metadata": {},
   "outputs": [],
   "source": [
    "plot(grid_points)"
   ]
  },
  {
   "cell_type": "markdown",
   "id": "3f1cdb94-b40f-4b83-8be2-a813b2833fef",
   "metadata": {},
   "source": [
    "Now, to compute a travel time matrix between all `grid_points`, we first instantiate an `r5py.TravelTimeMatrix` with the transport network we created earlier, and a list of origins (since we don’t specify a separate set of destinations, r5py will use the same points as destinations and produce a full set of origins and destinations). The constructor also accepts all parameters of [RegionalTask](reference.html#r5py.RegionalTask), such as transport modes, or walking speed. \n",
    "\n",
    "Calling `compute_travel_times()` on the instance will return a `pandas.DataFrame` with travel times between all points."
   ]
  },
  {
   "cell_type": "code",
   "execution_count": null,
   "id": "b5dabcc1-95a4-4c9f-86ab-533d2c752716",
   "metadata": {},
   "outputs": [],
   "source": [
    "import datetime\n",
    "\n",
    "from r5py import TravelTimeMatrix, TransitMode, LegMode\n",
    "\n",
    "\n",
    "travel_time_matrix = TravelTimeMatrix(\n",
    "    transport_network,\n",
    "    origins=grid_points,\n",
    "    departure=datetime.datetime(2022,2,22,8,30),\n",
    "    transport_modes=[TransitMode.TRANSIT, LegMode.WALK],\n",
    "    #percentiles=[1,25,50,75,99],\n",
    "    #breakdown=True\n",
    ")\n",
    "travel_times = travel_time_matrix.compute_travel_times()\n",
    "travel_times"
   ]
  }
 ],
 "metadata": {
  "kernelspec": {
   "display_name": "Python 3 (ipykernel)",
   "language": "python",
   "name": "python3"
  },
  "language_info": {
   "codemirror_mode": {
    "name": "ipython",
    "version": 3
   },
   "file_extension": ".py",
   "mimetype": "text/x-python",
   "name": "python",
   "nbconvert_exporter": "python",
   "pygments_lexer": "ipython3",
   "version": "3.10.4"
  }
 },
 "nbformat": 4,
 "nbformat_minor": 5
}
