{
 "cells": [
  {
   "cell_type": "markdown",
   "id": "f1c4253e",
   "metadata": {},
   "source": [
    "# Usage"
   ]
  },
  {
   "cell_type": "markdown",
   "id": "9319e933",
   "metadata": {
    "tags": [
     "remove-cell"
    ]
   },
   "source": [
    "## ~~Command line utility~~\n",
    "\n",
    "~~TODO~~"
   ]
  },
  {
   "cell_type": "markdown",
   "id": "0b7459d8",
   "metadata": {
    "tags": [
     "remove-cell"
    ]
   },
   "source": [
    "```bash\n",
    "$ # DOES NOT WORK YET r5py travel-time-matrix somewhere.osm.pbf somehwere_gtfs.zip --origins grid-centroids.gpkg ...\n",
    "```"
   ]
  },
  {
   "cell_type": "code",
   "execution_count": 1,
   "id": "314f3fec",
   "metadata": {
    "collapsed": false,
    "jupyter": {
     "outputs_hidden": false
    },
    "pycharm": {
     "name": "#%%\n"
    }
   },
   "outputs": [],
   "source": [
    "# this cell is hidden from output\n",
    "# it’s used to \n",
    "# - set sys.path to point to the local repo\n",
    "# - make ipython show all outputs of each cell\n",
    "# - provide a helper function to unobstrusively plot geometries\n",
    "\n",
    "# - set sys.path to point to the local repo\n",
    "import os.path\n",
    "import sys\n",
    "sys.path.append(\n",
    "    os.path.join(\n",
    "        os.path.abspath(\"\"),  # directory of __file__,\n",
    "        \"../src/\"\n",
    "    )\n",
    ")\n",
    "\n",
    "\n",
    "# - make ipython show all outputs of each cell\n",
    "get_ipython().ast_node_interactivity = \"all\"\n"
   ]
  },
  {
   "cell_type": "markdown",
   "id": "a3172a87",
   "metadata": {
    "pycharm": {
     "name": "#%% md\n"
    }
   },
   "source": [
    "## Python\n",
    "\n",
    "R5py exposes some of R5’s functionality via its [Python API](reference.html), in a syntax similar to r5r’s. At the time of this writing, only the computation of travel time matrices has been fully implemented. \n",
    "\n",
    "Below, you find a minimal example of computing a travel time matrix:"
   ]
  },
  {
   "cell_type": "markdown",
   "id": "1aa9f839",
   "metadata": {
    "pycharm": {
     "name": "#%% md\n"
    }
   },
   "source": [
    "### Load transport network\n",
    "\n",
    "Virtually all operations of r5py require a transport network. As input files to construct a transport network topology, r5py needs the following data sets:\n",
    "\n",
    "- The street network in the form of an OpenStreetMap extract covering the study area, prepared according to the instructions at https://docs.conveyal.com/prepare-inputs#preparing-the-osm-data, and possibly annotated with LADOT tags (see https://github.com/RSGInc/ladot_analysis_dataprep).\n",
    "- Public transport schedules in GTFS format (optional, r5py can combine multiple GTFS files)\n",
    "\n",
    "In this example, we use data from Helsinki metropolitan area, which you can find in the source code repository of r5py in `docs/data/`. The street network is a cropped and filtered extract of OpenStreetMap (© OpenStreetMap contributors, [ODbL license](https://www.openstreetmap.org/copyright)), the GTFS transport schedule is a cropped and minimised copy of Helsingin seudun liikenne’s (HSL) open data set [Creative Commons BY 4.0](https://www.hsl.fi/hsl/avoin-data#aineistojen-kayttoehdot).\n",
    "\n",
    "To import the street and public transport networks, instantiate an `r5py.TransportNetwork` with the file paths to the OSM extract and the GTFS files:"
   ]
  },
  {
   "cell_type": "code",
   "execution_count": 2,
   "id": "07842c49",
   "metadata": {
    "collapsed": false,
    "jupyter": {
     "outputs_hidden": false
    },
    "pycharm": {
     "name": "#%%\n"
    }
   },
   "outputs": [
    {
     "name": "stderr",
     "output_type": "stream",
     "text": [
      "Could not find R5 jar, trying to download it from upstream\n",
      "WARNING: An illegal reflective access operation has occurred\n",
      "WARNING: Illegal reflective access by org.mapdb.Volume$ByteBufferVol (file:/home/hentenka/.cache/r5py/r5-v6.6-all.jar) to method java.nio.DirectByteBuffer.cleaner()\n",
      "WARNING: Please consider reporting this to the maintainers of org.mapdb.Volume$ByteBufferVol\n",
      "WARNING: Use --illegal-access=warn to enable warnings of further illegal reflective access operations\n",
      "WARNING: All illegal access operations will be denied in a future release\n"
     ]
    }
   ],
   "source": [
    "from r5py import TransportNetwork\n",
    "\n",
    "transport_network = TransportNetwork(\n",
    "    \"data/kantakaupunki.osm.pbf\",\n",
    "    [\n",
    "        \"data/GTFS.zip\"\n",
    "    ]\n",
    ")"
   ]
  },
  {
   "cell_type": "markdown",
   "id": "2e5a7145",
   "metadata": {
    "pycharm": {
     "name": "#%% md\n"
    }
   },
   "source": [
    "### Compute a travel time matrix\n",
    "\n",
    "A travel time matrix is a data set detailing the travel costs (e.g., time) from each point to each point in a set of origins and destinations in a study area. \n",
    "\n",
    "For the sake of this exercise, we will create a regular grid of points covering parts of Helsinki."
   ]
  },
  {
   "cell_type": "code",
   "execution_count": 3,
   "id": "d1a0cc9d",
   "metadata": {
    "collapsed": false,
    "jupyter": {
     "outputs_hidden": false
    },
    "pycharm": {
     "name": "#%%\n"
    }
   },
   "outputs": [
    {
     "name": "stdout",
     "output_type": "stream",
     "text": [
      "Warning: SIGINT handler expected:libjvm.so+0xbdcd90  found:python+0xd7a41\n",
      "Running in non-interactive shell, SIGINT handler is replaced by shell\n",
      "Signal Handlers:\n",
      "SIGSEGV: [libjvm.so+0xbdca50], sa_mask[0]=11111111011111111101111111111110, sa_flags=SA_RESTART|SA_SIGINFO\n",
      "SIGBUS: [libjvm.so+0xbdca50], sa_mask[0]=11111111011111111101111111111110, sa_flags=SA_RESTART|SA_SIGINFO\n",
      "SIGFPE: [libjvm.so+0xbdca50], sa_mask[0]=11111111011111111101111111111110, sa_flags=SA_RESTART|SA_SIGINFO\n",
      "SIGPIPE: [libjvm.so+0xbdca50], sa_mask[0]=11111111011111111101111111111110, sa_flags=SA_RESTART|SA_SIGINFO\n",
      "SIGXFSZ: [libjvm.so+0xbdca50], sa_mask[0]=11111111011111111101111111111110, sa_flags=SA_RESTART|SA_SIGINFO\n",
      "SIGILL: [libjvm.so+0xbdca50], sa_mask[0]=11111111011111111101111111111110, sa_flags=SA_RESTART|SA_SIGINFO\n",
      "SIGUSR2: [libjvm.so+0xbdc8f0], sa_mask[0]=00000000000000000000000000000000, sa_flags=SA_RESTART|SA_SIGINFO\n",
      "SIGHUP: [libjvm.so+0xbdcd90], sa_mask[0]=11111111011111111101111111111110, sa_flags=SA_RESTART|SA_SIGINFO\n",
      "SIGINT: [python+0xd7a41], sa_mask[0]=00000000000000000000000000000000, sa_flags=SA_ONSTACK\n",
      "SIGTERM: [libjvm.so+0xbdcd90], sa_mask[0]=11111111011111111101111111111110, sa_flags=SA_RESTART|SA_SIGINFO\n",
      "SIGQUIT: [libjvm.so+0xbdcd90], sa_mask[0]=11111111011111111101111111111110, sa_flags=SA_RESTART|SA_SIGINFO\n"
     ]
    },
    {
     "data": {
      "text/html": [
       "<div>\n",
       "<style scoped>\n",
       "    .dataframe tbody tr th:only-of-type {\n",
       "        vertical-align: middle;\n",
       "    }\n",
       "\n",
       "    .dataframe tbody tr th {\n",
       "        vertical-align: top;\n",
       "    }\n",
       "\n",
       "    .dataframe thead th {\n",
       "        text-align: right;\n",
       "    }\n",
       "</style>\n",
       "<table border=\"1\" class=\"dataframe\">\n",
       "  <thead>\n",
       "    <tr style=\"text-align: right;\">\n",
       "      <th></th>\n",
       "      <th>id</th>\n",
       "      <th>geometry</th>\n",
       "    </tr>\n",
       "  </thead>\n",
       "  <tbody>\n",
       "    <tr>\n",
       "      <th>0</th>\n",
       "      <td>0</td>\n",
       "      <td>POINT (24.91000 60.19000)</td>\n",
       "    </tr>\n",
       "    <tr>\n",
       "      <th>1</th>\n",
       "      <td>1</td>\n",
       "      <td>POINT (24.91000 60.19500)</td>\n",
       "    </tr>\n",
       "    <tr>\n",
       "      <th>2</th>\n",
       "      <td>2</td>\n",
       "      <td>POINT (24.91000 60.20000)</td>\n",
       "    </tr>\n",
       "    <tr>\n",
       "      <th>3</th>\n",
       "      <td>3</td>\n",
       "      <td>POINT (24.91000 60.20500)</td>\n",
       "    </tr>\n",
       "    <tr>\n",
       "      <th>4</th>\n",
       "      <td>4</td>\n",
       "      <td>POINT (24.91000 60.21000)</td>\n",
       "    </tr>\n",
       "    <tr>\n",
       "      <th>...</th>\n",
       "      <td>...</td>\n",
       "      <td>...</td>\n",
       "    </tr>\n",
       "    <tr>\n",
       "      <th>127</th>\n",
       "      <td>127</td>\n",
       "      <td>POINT (24.96500 60.22000)</td>\n",
       "    </tr>\n",
       "    <tr>\n",
       "      <th>128</th>\n",
       "      <td>128</td>\n",
       "      <td>POINT (24.96500 60.22500)</td>\n",
       "    </tr>\n",
       "    <tr>\n",
       "      <th>129</th>\n",
       "      <td>129</td>\n",
       "      <td>POINT (24.96500 60.23000)</td>\n",
       "    </tr>\n",
       "    <tr>\n",
       "      <th>130</th>\n",
       "      <td>130</td>\n",
       "      <td>POINT (24.96500 60.23500)</td>\n",
       "    </tr>\n",
       "    <tr>\n",
       "      <th>131</th>\n",
       "      <td>131</td>\n",
       "      <td>POINT (24.96500 60.24000)</td>\n",
       "    </tr>\n",
       "  </tbody>\n",
       "</table>\n",
       "<p>132 rows × 2 columns</p>\n",
       "</div>"
      ],
      "text/plain": [
       "      id                   geometry\n",
       "0      0  POINT (24.91000 60.19000)\n",
       "1      1  POINT (24.91000 60.19500)\n",
       "2      2  POINT (24.91000 60.20000)\n",
       "3      3  POINT (24.91000 60.20500)\n",
       "4      4  POINT (24.91000 60.21000)\n",
       "..   ...                        ...\n",
       "127  127  POINT (24.96500 60.22000)\n",
       "128  128  POINT (24.96500 60.22500)\n",
       "129  129  POINT (24.96500 60.23000)\n",
       "130  130  POINT (24.96500 60.23500)\n",
       "131  131  POINT (24.96500 60.24000)\n",
       "\n",
       "[132 rows x 2 columns]"
      ]
     },
     "execution_count": 3,
     "metadata": {},
     "output_type": "execute_result"
    }
   ],
   "source": [
    "import itertools\n",
    "import geopandas\n",
    "import numpy\n",
    "\n",
    "south_west = (24.91, 60.19)\n",
    "north_east = (24.97, 60.24)\n",
    "\n",
    "coordinates =  itertools.product(\n",
    "    numpy.arange(south_west[0], north_east[0], 0.005),\n",
    "    numpy.arange(south_west[1], north_east[1], 0.005)\n",
    ")\n",
    "\n",
    "x, y = zip(*coordinates)\n",
    "\n",
    "grid_points = geopandas.GeoDataFrame({\n",
    "    \"id\": range(len(list(x))),\n",
    "    \"geometry\": geopandas.GeoSeries.from_xy(\n",
    "     x, y, crs=\"EPSG:4326\"\n",
    "    ),\n",
    "    \n",
    "})\n",
    "\n",
    "grid_points"
   ]
  },
  {
   "cell_type": "code",
   "execution_count": 4,
   "id": "8738afcc",
   "metadata": {
    "collapsed": false,
    "jupyter": {
     "outputs_hidden": false
    },
    "pycharm": {
     "name": "#%%\n"
    }
   },
   "outputs": [
    {
     "data": {
      "text/html": [
       "<div style=\"width:100%;\"><div style=\"position:relative;width:100%;height:0;padding-bottom:60%;\"><span style=\"color:#565656\">Make this Notebook Trusted to load map: File -> Trust Notebook</span><iframe srcdoc=\"&lt;!DOCTYPE html&gt;\n",
       "&lt;head&gt;    \n",
       "    &lt;meta http-equiv=&quot;content-type&quot; content=&quot;text/html; charset=UTF-8&quot; /&gt;\n",
       "    \n",
       "        &lt;script&gt;\n",
       "            L_NO_TOUCH = false;\n",
       "            L_DISABLE_3D = false;\n",
       "        &lt;/script&gt;\n",
       "    \n",
       "    &lt;style&gt;html, body {width: 100%;height: 100%;margin: 0;padding: 0;}&lt;/style&gt;\n",
       "    &lt;style&gt;#map {position:absolute;top:0;bottom:0;right:0;left:0;}&lt;/style&gt;\n",
       "    &lt;script src=&quot;https://cdn.jsdelivr.net/npm/leaflet@1.6.0/dist/leaflet.js&quot;&gt;&lt;/script&gt;\n",
       "    &lt;script src=&quot;https://code.jquery.com/jquery-1.12.4.min.js&quot;&gt;&lt;/script&gt;\n",
       "    &lt;script src=&quot;https://maxcdn.bootstrapcdn.com/bootstrap/3.2.0/js/bootstrap.min.js&quot;&gt;&lt;/script&gt;\n",
       "    &lt;script src=&quot;https://cdnjs.cloudflare.com/ajax/libs/Leaflet.awesome-markers/2.0.2/leaflet.awesome-markers.js&quot;&gt;&lt;/script&gt;\n",
       "    &lt;link rel=&quot;stylesheet&quot; href=&quot;https://cdn.jsdelivr.net/npm/leaflet@1.6.0/dist/leaflet.css&quot;/&gt;\n",
       "    &lt;link rel=&quot;stylesheet&quot; href=&quot;https://maxcdn.bootstrapcdn.com/bootstrap/3.2.0/css/bootstrap.min.css&quot;/&gt;\n",
       "    &lt;link rel=&quot;stylesheet&quot; href=&quot;https://maxcdn.bootstrapcdn.com/bootstrap/3.2.0/css/bootstrap-theme.min.css&quot;/&gt;\n",
       "    &lt;link rel=&quot;stylesheet&quot; href=&quot;https://maxcdn.bootstrapcdn.com/font-awesome/4.6.3/css/font-awesome.min.css&quot;/&gt;\n",
       "    &lt;link rel=&quot;stylesheet&quot; href=&quot;https://cdnjs.cloudflare.com/ajax/libs/Leaflet.awesome-markers/2.0.2/leaflet.awesome-markers.css&quot;/&gt;\n",
       "    &lt;link rel=&quot;stylesheet&quot; href=&quot;https://cdn.jsdelivr.net/gh/python-visualization/folium/folium/templates/leaflet.awesome.rotate.min.css&quot;/&gt;\n",
       "    \n",
       "            &lt;meta name=&quot;viewport&quot; content=&quot;width=device-width,\n",
       "                initial-scale=1.0, maximum-scale=1.0, user-scalable=no&quot; /&gt;\n",
       "            &lt;style&gt;\n",
       "                #map_ba111cdb9a01006c7ea0eebfc217f896 {\n",
       "                    position: relative;\n",
       "                    width: 100.0%;\n",
       "                    height: 100.0%;\n",
       "                    left: 0.0%;\n",
       "                    top: 0.0%;\n",
       "                }\n",
       "            &lt;/style&gt;\n",
       "        \n",
       "    \n",
       "                    &lt;style&gt;\n",
       "                        .foliumtooltip {\n",
       "                            \n",
       "                        }\n",
       "                       .foliumtooltip table{\n",
       "                            margin: auto;\n",
       "                        }\n",
       "                        .foliumtooltip tr{\n",
       "                            text-align: left;\n",
       "                        }\n",
       "                        .foliumtooltip th{\n",
       "                            padding: 2px; padding-right: 8px;\n",
       "                        }\n",
       "                    &lt;/style&gt;\n",
       "            \n",
       "&lt;/head&gt;\n",
       "&lt;body&gt;    \n",
       "    \n",
       "            &lt;div class=&quot;folium-map&quot; id=&quot;map_ba111cdb9a01006c7ea0eebfc217f896&quot; &gt;&lt;/div&gt;\n",
       "        \n",
       "&lt;/body&gt;\n",
       "&lt;script&gt;    \n",
       "    \n",
       "            var map_ba111cdb9a01006c7ea0eebfc217f896 = L.map(\n",
       "                &quot;map_ba111cdb9a01006c7ea0eebfc217f896&quot;,\n",
       "                {\n",
       "                    center: [60.21500000000001, 24.937499999999993],\n",
       "                    crs: L.CRS.EPSG3857,\n",
       "                    zoom: 10,\n",
       "                    zoomControl: true,\n",
       "                    preferCanvas: false,\n",
       "                }\n",
       "            );\n",
       "            L.control.scale().addTo(map_ba111cdb9a01006c7ea0eebfc217f896);\n",
       "\n",
       "            \n",
       "\n",
       "        \n",
       "    \n",
       "            var tile_layer_b2a4b90409c6e0ae8554b591bb80254e = L.tileLayer(\n",
       "                &quot;https://{s}.tile.openstreetmap.org/{z}/{x}/{y}.png&quot;,\n",
       "                {&quot;attribution&quot;: &quot;Data by \\u0026copy; \\u003ca href=\\&quot;http://openstreetmap.org\\&quot;\\u003eOpenStreetMap\\u003c/a\\u003e, under \\u003ca href=\\&quot;http://www.openstreetmap.org/copyright\\&quot;\\u003eODbL\\u003c/a\\u003e.&quot;, &quot;detectRetina&quot;: false, &quot;maxNativeZoom&quot;: 18, &quot;maxZoom&quot;: 18, &quot;minZoom&quot;: 0, &quot;noWrap&quot;: false, &quot;opacity&quot;: 1, &quot;subdomains&quot;: &quot;abc&quot;, &quot;tms&quot;: false}\n",
       "            ).addTo(map_ba111cdb9a01006c7ea0eebfc217f896);\n",
       "        \n",
       "    \n",
       "            map_ba111cdb9a01006c7ea0eebfc217f896.fitBounds(\n",
       "                [[60.19, 24.91], [60.24000000000002, 24.96499999999999]],\n",
       "                {}\n",
       "            );\n",
       "        \n",
       "    \n",
       "        function geo_json_27f68c82ec52bf6c8bfcc265b09d664e_styler(feature) {\n",
       "            switch(feature.id) {\n",
       "                default:\n",
       "                    return {&quot;fillOpacity&quot;: 0.5, &quot;weight&quot;: 2};\n",
       "            }\n",
       "        }\n",
       "        function geo_json_27f68c82ec52bf6c8bfcc265b09d664e_highlighter(feature) {\n",
       "            switch(feature.id) {\n",
       "                default:\n",
       "                    return {&quot;fillOpacity&quot;: 0.75};\n",
       "            }\n",
       "        }\n",
       "        function geo_json_27f68c82ec52bf6c8bfcc265b09d664e_pointToLayer(feature, latlng) {\n",
       "            var opts = {&quot;bubblingMouseEvents&quot;: true, &quot;color&quot;: &quot;red&quot;, &quot;dashArray&quot;: null, &quot;dashOffset&quot;: null, &quot;fill&quot;: true, &quot;fillColor&quot;: &quot;red&quot;, &quot;fillOpacity&quot;: 0.2, &quot;fillRule&quot;: &quot;evenodd&quot;, &quot;lineCap&quot;: &quot;round&quot;, &quot;lineJoin&quot;: &quot;round&quot;, &quot;opacity&quot;: 1.0, &quot;radius&quot;: 6, &quot;stroke&quot;: true, &quot;weight&quot;: 3};\n",
       "            \n",
       "            let style = geo_json_27f68c82ec52bf6c8bfcc265b09d664e_styler(feature)\n",
       "            Object.assign(opts, style)\n",
       "            \n",
       "            return new L.CircleMarker(latlng, opts)\n",
       "        }\n",
       "\n",
       "        function geo_json_27f68c82ec52bf6c8bfcc265b09d664e_onEachFeature(feature, layer) {\n",
       "            layer.on({\n",
       "                mouseout: function(e) {\n",
       "                    if(typeof e.target.setStyle === &quot;function&quot;){\n",
       "                        geo_json_27f68c82ec52bf6c8bfcc265b09d664e.resetStyle(e.target);\n",
       "                    }\n",
       "                },\n",
       "                mouseover: function(e) {\n",
       "                    if(typeof e.target.setStyle === &quot;function&quot;){\n",
       "                        const highlightStyle = geo_json_27f68c82ec52bf6c8bfcc265b09d664e_highlighter(e.target.feature)\n",
       "                        e.target.setStyle(highlightStyle);\n",
       "                    }\n",
       "                },\n",
       "            });\n",
       "        };\n",
       "        var geo_json_27f68c82ec52bf6c8bfcc265b09d664e = L.geoJson(null, {\n",
       "                onEachFeature: geo_json_27f68c82ec52bf6c8bfcc265b09d664e_onEachFeature,\n",
       "            \n",
       "                style: geo_json_27f68c82ec52bf6c8bfcc265b09d664e_styler,\n",
       "                pointToLayer: geo_json_27f68c82ec52bf6c8bfcc265b09d664e_pointToLayer\n",
       "        });\n",
       "\n",
       "        function geo_json_27f68c82ec52bf6c8bfcc265b09d664e_add (data) {\n",
       "            geo_json_27f68c82ec52bf6c8bfcc265b09d664e\n",
       "                .addData(data)\n",
       "                .addTo(map_ba111cdb9a01006c7ea0eebfc217f896);\n",
       "        }\n",
       "            geo_json_27f68c82ec52bf6c8bfcc265b09d664e_add({&quot;bbox&quot;: [24.91, 60.19, 24.96499999999999, 60.24000000000002], &quot;features&quot;: [{&quot;bbox&quot;: [24.91, 60.19, 24.91, 60.19], &quot;geometry&quot;: {&quot;coordinates&quot;: [24.91, 60.19], &quot;type&quot;: &quot;Point&quot;}, &quot;id&quot;: &quot;0&quot;, &quot;properties&quot;: {&quot;id&quot;: 0}, &quot;type&quot;: &quot;Feature&quot;}, {&quot;bbox&quot;: [24.91, 60.195, 24.91, 60.195], &quot;geometry&quot;: {&quot;coordinates&quot;: [24.91, 60.195], &quot;type&quot;: &quot;Point&quot;}, &quot;id&quot;: &quot;1&quot;, &quot;properties&quot;: {&quot;id&quot;: 1}, &quot;type&quot;: &quot;Feature&quot;}, {&quot;bbox&quot;: [24.91, 60.2, 24.91, 60.2], &quot;geometry&quot;: {&quot;coordinates&quot;: [24.91, 60.2], &quot;type&quot;: &quot;Point&quot;}, &quot;id&quot;: &quot;2&quot;, &quot;properties&quot;: {&quot;id&quot;: 2}, &quot;type&quot;: &quot;Feature&quot;}, {&quot;bbox&quot;: [24.91, 60.205000000000005, 24.91, 60.205000000000005], &quot;geometry&quot;: {&quot;coordinates&quot;: [24.91, 60.205000000000005], &quot;type&quot;: &quot;Point&quot;}, &quot;id&quot;: &quot;3&quot;, &quot;properties&quot;: {&quot;id&quot;: 3}, &quot;type&quot;: &quot;Feature&quot;}, {&quot;bbox&quot;: [24.91, 60.21000000000001, 24.91, 60.21000000000001], &quot;geometry&quot;: {&quot;coordinates&quot;: [24.91, 60.21000000000001], &quot;type&quot;: &quot;Point&quot;}, &quot;id&quot;: &quot;4&quot;, &quot;properties&quot;: {&quot;id&quot;: 4}, &quot;type&quot;: &quot;Feature&quot;}, {&quot;bbox&quot;: [24.91, 60.21500000000001, 24.91, 60.21500000000001], &quot;geometry&quot;: {&quot;coordinates&quot;: [24.91, 60.21500000000001], &quot;type&quot;: &quot;Point&quot;}, &quot;id&quot;: &quot;5&quot;, &quot;properties&quot;: {&quot;id&quot;: 5}, &quot;type&quot;: &quot;Feature&quot;}, {&quot;bbox&quot;: [24.91, 60.22000000000001, 24.91, 60.22000000000001], &quot;geometry&quot;: {&quot;coordinates&quot;: [24.91, 60.22000000000001], &quot;type&quot;: &quot;Point&quot;}, &quot;id&quot;: &quot;6&quot;, &quot;properties&quot;: {&quot;id&quot;: 6}, &quot;type&quot;: &quot;Feature&quot;}, {&quot;bbox&quot;: [24.91, 60.225000000000016, 24.91, 60.225000000000016], &quot;geometry&quot;: {&quot;coordinates&quot;: [24.91, 60.225000000000016], &quot;type&quot;: &quot;Point&quot;}, &quot;id&quot;: &quot;7&quot;, &quot;properties&quot;: {&quot;id&quot;: 7}, &quot;type&quot;: &quot;Feature&quot;}, {&quot;bbox&quot;: [24.91, 60.23000000000002, 24.91, 60.23000000000002], &quot;geometry&quot;: {&quot;coordinates&quot;: [24.91, 60.23000000000002], &quot;type&quot;: &quot;Point&quot;}, &quot;id&quot;: &quot;8&quot;, &quot;properties&quot;: {&quot;id&quot;: 8}, &quot;type&quot;: &quot;Feature&quot;}, {&quot;bbox&quot;: [24.91, 60.23500000000002, 24.91, 60.23500000000002], &quot;geometry&quot;: {&quot;coordinates&quot;: [24.91, 60.23500000000002], &quot;type&quot;: &quot;Point&quot;}, &quot;id&quot;: &quot;9&quot;, &quot;properties&quot;: {&quot;id&quot;: 9}, &quot;type&quot;: &quot;Feature&quot;}, {&quot;bbox&quot;: [24.91, 60.24000000000002, 24.91, 60.24000000000002], &quot;geometry&quot;: {&quot;coordinates&quot;: [24.91, 60.24000000000002], &quot;type&quot;: &quot;Point&quot;}, &quot;id&quot;: &quot;10&quot;, &quot;properties&quot;: {&quot;id&quot;: 10}, &quot;type&quot;: &quot;Feature&quot;}, {&quot;bbox&quot;: [24.915, 60.19, 24.915, 60.19], &quot;geometry&quot;: {&quot;coordinates&quot;: [24.915, 60.19], &quot;type&quot;: &quot;Point&quot;}, &quot;id&quot;: &quot;11&quot;, &quot;properties&quot;: {&quot;id&quot;: 11}, &quot;type&quot;: &quot;Feature&quot;}, {&quot;bbox&quot;: [24.915, 60.195, 24.915, 60.195], &quot;geometry&quot;: {&quot;coordinates&quot;: [24.915, 60.195], &quot;type&quot;: &quot;Point&quot;}, &quot;id&quot;: &quot;12&quot;, &quot;properties&quot;: {&quot;id&quot;: 12}, &quot;type&quot;: &quot;Feature&quot;}, {&quot;bbox&quot;: [24.915, 60.2, 24.915, 60.2], &quot;geometry&quot;: {&quot;coordinates&quot;: [24.915, 60.2], &quot;type&quot;: &quot;Point&quot;}, &quot;id&quot;: &quot;13&quot;, &quot;properties&quot;: {&quot;id&quot;: 13}, &quot;type&quot;: &quot;Feature&quot;}, {&quot;bbox&quot;: [24.915, 60.205000000000005, 24.915, 60.205000000000005], &quot;geometry&quot;: {&quot;coordinates&quot;: [24.915, 60.205000000000005], &quot;type&quot;: &quot;Point&quot;}, &quot;id&quot;: &quot;14&quot;, &quot;properties&quot;: {&quot;id&quot;: 14}, &quot;type&quot;: &quot;Feature&quot;}, {&quot;bbox&quot;: [24.915, 60.21000000000001, 24.915, 60.21000000000001], &quot;geometry&quot;: {&quot;coordinates&quot;: [24.915, 60.21000000000001], &quot;type&quot;: &quot;Point&quot;}, &quot;id&quot;: &quot;15&quot;, &quot;properties&quot;: {&quot;id&quot;: 15}, &quot;type&quot;: &quot;Feature&quot;}, {&quot;bbox&quot;: [24.915, 60.21500000000001, 24.915, 60.21500000000001], &quot;geometry&quot;: {&quot;coordinates&quot;: [24.915, 60.21500000000001], &quot;type&quot;: &quot;Point&quot;}, &quot;id&quot;: &quot;16&quot;, &quot;properties&quot;: {&quot;id&quot;: 16}, &quot;type&quot;: &quot;Feature&quot;}, {&quot;bbox&quot;: [24.915, 60.22000000000001, 24.915, 60.22000000000001], &quot;geometry&quot;: {&quot;coordinates&quot;: [24.915, 60.22000000000001], &quot;type&quot;: &quot;Point&quot;}, &quot;id&quot;: &quot;17&quot;, &quot;properties&quot;: {&quot;id&quot;: 17}, &quot;type&quot;: &quot;Feature&quot;}, {&quot;bbox&quot;: [24.915, 60.225000000000016, 24.915, 60.225000000000016], &quot;geometry&quot;: {&quot;coordinates&quot;: [24.915, 60.225000000000016], &quot;type&quot;: &quot;Point&quot;}, &quot;id&quot;: &quot;18&quot;, &quot;properties&quot;: {&quot;id&quot;: 18}, &quot;type&quot;: &quot;Feature&quot;}, {&quot;bbox&quot;: [24.915, 60.23000000000002, 24.915, 60.23000000000002], &quot;geometry&quot;: {&quot;coordinates&quot;: [24.915, 60.23000000000002], &quot;type&quot;: &quot;Point&quot;}, &quot;id&quot;: &quot;19&quot;, &quot;properties&quot;: {&quot;id&quot;: 19}, &quot;type&quot;: &quot;Feature&quot;}, {&quot;bbox&quot;: [24.915, 60.23500000000002, 24.915, 60.23500000000002], &quot;geometry&quot;: {&quot;coordinates&quot;: [24.915, 60.23500000000002], &quot;type&quot;: &quot;Point&quot;}, &quot;id&quot;: &quot;20&quot;, &quot;properties&quot;: {&quot;id&quot;: 20}, &quot;type&quot;: &quot;Feature&quot;}, {&quot;bbox&quot;: [24.915, 60.24000000000002, 24.915, 60.24000000000002], &quot;geometry&quot;: {&quot;coordinates&quot;: [24.915, 60.24000000000002], &quot;type&quot;: &quot;Point&quot;}, &quot;id&quot;: &quot;21&quot;, &quot;properties&quot;: {&quot;id&quot;: 21}, &quot;type&quot;: &quot;Feature&quot;}, {&quot;bbox&quot;: [24.919999999999998, 60.19, 24.919999999999998, 60.19], &quot;geometry&quot;: {&quot;coordinates&quot;: [24.919999999999998, 60.19], &quot;type&quot;: &quot;Point&quot;}, &quot;id&quot;: &quot;22&quot;, &quot;properties&quot;: {&quot;id&quot;: 22}, &quot;type&quot;: &quot;Feature&quot;}, {&quot;bbox&quot;: [24.919999999999998, 60.195, 24.919999999999998, 60.195], &quot;geometry&quot;: {&quot;coordinates&quot;: [24.919999999999998, 60.195], &quot;type&quot;: &quot;Point&quot;}, &quot;id&quot;: &quot;23&quot;, &quot;properties&quot;: {&quot;id&quot;: 23}, &quot;type&quot;: &quot;Feature&quot;}, {&quot;bbox&quot;: [24.919999999999998, 60.2, 24.919999999999998, 60.2], &quot;geometry&quot;: {&quot;coordinates&quot;: [24.919999999999998, 60.2], &quot;type&quot;: &quot;Point&quot;}, &quot;id&quot;: &quot;24&quot;, &quot;properties&quot;: {&quot;id&quot;: 24}, &quot;type&quot;: &quot;Feature&quot;}, {&quot;bbox&quot;: [24.919999999999998, 60.205000000000005, 24.919999999999998, 60.205000000000005], &quot;geometry&quot;: {&quot;coordinates&quot;: [24.919999999999998, 60.205000000000005], &quot;type&quot;: &quot;Point&quot;}, &quot;id&quot;: &quot;25&quot;, &quot;properties&quot;: {&quot;id&quot;: 25}, &quot;type&quot;: &quot;Feature&quot;}, {&quot;bbox&quot;: [24.919999999999998, 60.21000000000001, 24.919999999999998, 60.21000000000001], &quot;geometry&quot;: {&quot;coordinates&quot;: [24.919999999999998, 60.21000000000001], &quot;type&quot;: &quot;Point&quot;}, &quot;id&quot;: &quot;26&quot;, &quot;properties&quot;: {&quot;id&quot;: 26}, &quot;type&quot;: &quot;Feature&quot;}, {&quot;bbox&quot;: [24.919999999999998, 60.21500000000001, 24.919999999999998, 60.21500000000001], &quot;geometry&quot;: {&quot;coordinates&quot;: [24.919999999999998, 60.21500000000001], &quot;type&quot;: &quot;Point&quot;}, &quot;id&quot;: &quot;27&quot;, &quot;properties&quot;: {&quot;id&quot;: 27}, &quot;type&quot;: &quot;Feature&quot;}, {&quot;bbox&quot;: [24.919999999999998, 60.22000000000001, 24.919999999999998, 60.22000000000001], &quot;geometry&quot;: {&quot;coordinates&quot;: [24.919999999999998, 60.22000000000001], &quot;type&quot;: &quot;Point&quot;}, &quot;id&quot;: &quot;28&quot;, &quot;properties&quot;: {&quot;id&quot;: 28}, &quot;type&quot;: &quot;Feature&quot;}, {&quot;bbox&quot;: [24.919999999999998, 60.225000000000016, 24.919999999999998, 60.225000000000016], &quot;geometry&quot;: {&quot;coordinates&quot;: [24.919999999999998, 60.225000000000016], &quot;type&quot;: &quot;Point&quot;}, &quot;id&quot;: &quot;29&quot;, &quot;properties&quot;: {&quot;id&quot;: 29}, &quot;type&quot;: &quot;Feature&quot;}, {&quot;bbox&quot;: [24.919999999999998, 60.23000000000002, 24.919999999999998, 60.23000000000002], &quot;geometry&quot;: {&quot;coordinates&quot;: [24.919999999999998, 60.23000000000002], &quot;type&quot;: &quot;Point&quot;}, &quot;id&quot;: &quot;30&quot;, &quot;properties&quot;: {&quot;id&quot;: 30}, &quot;type&quot;: &quot;Feature&quot;}, {&quot;bbox&quot;: [24.919999999999998, 60.23500000000002, 24.919999999999998, 60.23500000000002], &quot;geometry&quot;: {&quot;coordinates&quot;: [24.919999999999998, 60.23500000000002], &quot;type&quot;: &quot;Point&quot;}, &quot;id&quot;: &quot;31&quot;, &quot;properties&quot;: {&quot;id&quot;: 31}, &quot;type&quot;: &quot;Feature&quot;}, {&quot;bbox&quot;: [24.919999999999998, 60.24000000000002, 24.919999999999998, 60.24000000000002], &quot;geometry&quot;: {&quot;coordinates&quot;: [24.919999999999998, 60.24000000000002], &quot;type&quot;: &quot;Point&quot;}, &quot;id&quot;: &quot;32&quot;, &quot;properties&quot;: {&quot;id&quot;: 32}, &quot;type&quot;: &quot;Feature&quot;}, {&quot;bbox&quot;: [24.924999999999997, 60.19, 24.924999999999997, 60.19], &quot;geometry&quot;: {&quot;coordinates&quot;: [24.924999999999997, 60.19], &quot;type&quot;: &quot;Point&quot;}, &quot;id&quot;: &quot;33&quot;, &quot;properties&quot;: {&quot;id&quot;: 33}, &quot;type&quot;: &quot;Feature&quot;}, {&quot;bbox&quot;: [24.924999999999997, 60.195, 24.924999999999997, 60.195], &quot;geometry&quot;: {&quot;coordinates&quot;: [24.924999999999997, 60.195], &quot;type&quot;: &quot;Point&quot;}, &quot;id&quot;: &quot;34&quot;, &quot;properties&quot;: {&quot;id&quot;: 34}, &quot;type&quot;: &quot;Feature&quot;}, {&quot;bbox&quot;: [24.924999999999997, 60.2, 24.924999999999997, 60.2], &quot;geometry&quot;: {&quot;coordinates&quot;: [24.924999999999997, 60.2], &quot;type&quot;: &quot;Point&quot;}, &quot;id&quot;: &quot;35&quot;, &quot;properties&quot;: {&quot;id&quot;: 35}, &quot;type&quot;: &quot;Feature&quot;}, {&quot;bbox&quot;: [24.924999999999997, 60.205000000000005, 24.924999999999997, 60.205000000000005], &quot;geometry&quot;: {&quot;coordinates&quot;: [24.924999999999997, 60.205000000000005], &quot;type&quot;: &quot;Point&quot;}, &quot;id&quot;: &quot;36&quot;, &quot;properties&quot;: {&quot;id&quot;: 36}, &quot;type&quot;: &quot;Feature&quot;}, {&quot;bbox&quot;: [24.924999999999997, 60.21000000000001, 24.924999999999997, 60.21000000000001], &quot;geometry&quot;: {&quot;coordinates&quot;: [24.924999999999997, 60.21000000000001], &quot;type&quot;: &quot;Point&quot;}, &quot;id&quot;: &quot;37&quot;, &quot;properties&quot;: {&quot;id&quot;: 37}, &quot;type&quot;: &quot;Feature&quot;}, {&quot;bbox&quot;: [24.924999999999997, 60.21500000000001, 24.924999999999997, 60.21500000000001], &quot;geometry&quot;: {&quot;coordinates&quot;: [24.924999999999997, 60.21500000000001], &quot;type&quot;: &quot;Point&quot;}, &quot;id&quot;: &quot;38&quot;, &quot;properties&quot;: {&quot;id&quot;: 38}, &quot;type&quot;: &quot;Feature&quot;}, {&quot;bbox&quot;: [24.924999999999997, 60.22000000000001, 24.924999999999997, 60.22000000000001], &quot;geometry&quot;: {&quot;coordinates&quot;: [24.924999999999997, 60.22000000000001], &quot;type&quot;: &quot;Point&quot;}, &quot;id&quot;: &quot;39&quot;, &quot;properties&quot;: {&quot;id&quot;: 39}, &quot;type&quot;: &quot;Feature&quot;}, {&quot;bbox&quot;: [24.924999999999997, 60.225000000000016, 24.924999999999997, 60.225000000000016], &quot;geometry&quot;: {&quot;coordinates&quot;: [24.924999999999997, 60.225000000000016], &quot;type&quot;: &quot;Point&quot;}, &quot;id&quot;: &quot;40&quot;, &quot;properties&quot;: {&quot;id&quot;: 40}, &quot;type&quot;: &quot;Feature&quot;}, {&quot;bbox&quot;: [24.924999999999997, 60.23000000000002, 24.924999999999997, 60.23000000000002], &quot;geometry&quot;: {&quot;coordinates&quot;: [24.924999999999997, 60.23000000000002], &quot;type&quot;: &quot;Point&quot;}, &quot;id&quot;: &quot;41&quot;, &quot;properties&quot;: {&quot;id&quot;: 41}, &quot;type&quot;: &quot;Feature&quot;}, {&quot;bbox&quot;: [24.924999999999997, 60.23500000000002, 24.924999999999997, 60.23500000000002], &quot;geometry&quot;: {&quot;coordinates&quot;: [24.924999999999997, 60.23500000000002], &quot;type&quot;: &quot;Point&quot;}, &quot;id&quot;: &quot;42&quot;, &quot;properties&quot;: {&quot;id&quot;: 42}, &quot;type&quot;: &quot;Feature&quot;}, {&quot;bbox&quot;: [24.924999999999997, 60.24000000000002, 24.924999999999997, 60.24000000000002], &quot;geometry&quot;: {&quot;coordinates&quot;: [24.924999999999997, 60.24000000000002], &quot;type&quot;: &quot;Point&quot;}, &quot;id&quot;: &quot;43&quot;, &quot;properties&quot;: {&quot;id&quot;: 43}, &quot;type&quot;: &quot;Feature&quot;}, {&quot;bbox&quot;: [24.929999999999996, 60.19, 24.929999999999996, 60.19], &quot;geometry&quot;: {&quot;coordinates&quot;: [24.929999999999996, 60.19], &quot;type&quot;: &quot;Point&quot;}, &quot;id&quot;: &quot;44&quot;, &quot;properties&quot;: {&quot;id&quot;: 44}, &quot;type&quot;: &quot;Feature&quot;}, {&quot;bbox&quot;: [24.929999999999996, 60.195, 24.929999999999996, 60.195], &quot;geometry&quot;: {&quot;coordinates&quot;: [24.929999999999996, 60.195], &quot;type&quot;: &quot;Point&quot;}, &quot;id&quot;: &quot;45&quot;, &quot;properties&quot;: {&quot;id&quot;: 45}, &quot;type&quot;: &quot;Feature&quot;}, {&quot;bbox&quot;: [24.929999999999996, 60.2, 24.929999999999996, 60.2], &quot;geometry&quot;: {&quot;coordinates&quot;: [24.929999999999996, 60.2], &quot;type&quot;: &quot;Point&quot;}, &quot;id&quot;: &quot;46&quot;, &quot;properties&quot;: {&quot;id&quot;: 46}, &quot;type&quot;: &quot;Feature&quot;}, {&quot;bbox&quot;: [24.929999999999996, 60.205000000000005, 24.929999999999996, 60.205000000000005], &quot;geometry&quot;: {&quot;coordinates&quot;: [24.929999999999996, 60.205000000000005], &quot;type&quot;: &quot;Point&quot;}, &quot;id&quot;: &quot;47&quot;, &quot;properties&quot;: {&quot;id&quot;: 47}, &quot;type&quot;: &quot;Feature&quot;}, {&quot;bbox&quot;: [24.929999999999996, 60.21000000000001, 24.929999999999996, 60.21000000000001], &quot;geometry&quot;: {&quot;coordinates&quot;: [24.929999999999996, 60.21000000000001], &quot;type&quot;: &quot;Point&quot;}, &quot;id&quot;: &quot;48&quot;, &quot;properties&quot;: {&quot;id&quot;: 48}, &quot;type&quot;: &quot;Feature&quot;}, {&quot;bbox&quot;: [24.929999999999996, 60.21500000000001, 24.929999999999996, 60.21500000000001], &quot;geometry&quot;: {&quot;coordinates&quot;: [24.929999999999996, 60.21500000000001], &quot;type&quot;: &quot;Point&quot;}, &quot;id&quot;: &quot;49&quot;, &quot;properties&quot;: {&quot;id&quot;: 49}, &quot;type&quot;: &quot;Feature&quot;}, {&quot;bbox&quot;: [24.929999999999996, 60.22000000000001, 24.929999999999996, 60.22000000000001], &quot;geometry&quot;: {&quot;coordinates&quot;: [24.929999999999996, 60.22000000000001], &quot;type&quot;: &quot;Point&quot;}, &quot;id&quot;: &quot;50&quot;, &quot;properties&quot;: {&quot;id&quot;: 50}, &quot;type&quot;: &quot;Feature&quot;}, {&quot;bbox&quot;: [24.929999999999996, 60.225000000000016, 24.929999999999996, 60.225000000000016], &quot;geometry&quot;: {&quot;coordinates&quot;: [24.929999999999996, 60.225000000000016], &quot;type&quot;: &quot;Point&quot;}, &quot;id&quot;: &quot;51&quot;, &quot;properties&quot;: {&quot;id&quot;: 51}, &quot;type&quot;: &quot;Feature&quot;}, {&quot;bbox&quot;: [24.929999999999996, 60.23000000000002, 24.929999999999996, 60.23000000000002], &quot;geometry&quot;: {&quot;coordinates&quot;: [24.929999999999996, 60.23000000000002], &quot;type&quot;: &quot;Point&quot;}, &quot;id&quot;: &quot;52&quot;, &quot;properties&quot;: {&quot;id&quot;: 52}, &quot;type&quot;: &quot;Feature&quot;}, {&quot;bbox&quot;: [24.929999999999996, 60.23500000000002, 24.929999999999996, 60.23500000000002], &quot;geometry&quot;: {&quot;coordinates&quot;: [24.929999999999996, 60.23500000000002], &quot;type&quot;: &quot;Point&quot;}, &quot;id&quot;: &quot;53&quot;, &quot;properties&quot;: {&quot;id&quot;: 53}, &quot;type&quot;: &quot;Feature&quot;}, {&quot;bbox&quot;: [24.929999999999996, 60.24000000000002, 24.929999999999996, 60.24000000000002], &quot;geometry&quot;: {&quot;coordinates&quot;: [24.929999999999996, 60.24000000000002], &quot;type&quot;: &quot;Point&quot;}, &quot;id&quot;: &quot;54&quot;, &quot;properties&quot;: {&quot;id&quot;: 54}, &quot;type&quot;: &quot;Feature&quot;}, {&quot;bbox&quot;: [24.934999999999995, 60.19, 24.934999999999995, 60.19], &quot;geometry&quot;: {&quot;coordinates&quot;: [24.934999999999995, 60.19], &quot;type&quot;: &quot;Point&quot;}, &quot;id&quot;: &quot;55&quot;, &quot;properties&quot;: {&quot;id&quot;: 55}, &quot;type&quot;: &quot;Feature&quot;}, {&quot;bbox&quot;: [24.934999999999995, 60.195, 24.934999999999995, 60.195], &quot;geometry&quot;: {&quot;coordinates&quot;: [24.934999999999995, 60.195], &quot;type&quot;: &quot;Point&quot;}, &quot;id&quot;: &quot;56&quot;, &quot;properties&quot;: {&quot;id&quot;: 56}, &quot;type&quot;: &quot;Feature&quot;}, {&quot;bbox&quot;: [24.934999999999995, 60.2, 24.934999999999995, 60.2], &quot;geometry&quot;: {&quot;coordinates&quot;: [24.934999999999995, 60.2], &quot;type&quot;: &quot;Point&quot;}, &quot;id&quot;: &quot;57&quot;, &quot;properties&quot;: {&quot;id&quot;: 57}, &quot;type&quot;: &quot;Feature&quot;}, {&quot;bbox&quot;: [24.934999999999995, 60.205000000000005, 24.934999999999995, 60.205000000000005], &quot;geometry&quot;: {&quot;coordinates&quot;: [24.934999999999995, 60.205000000000005], &quot;type&quot;: &quot;Point&quot;}, &quot;id&quot;: &quot;58&quot;, &quot;properties&quot;: {&quot;id&quot;: 58}, &quot;type&quot;: &quot;Feature&quot;}, {&quot;bbox&quot;: [24.934999999999995, 60.21000000000001, 24.934999999999995, 60.21000000000001], &quot;geometry&quot;: {&quot;coordinates&quot;: [24.934999999999995, 60.21000000000001], &quot;type&quot;: &quot;Point&quot;}, &quot;id&quot;: &quot;59&quot;, &quot;properties&quot;: {&quot;id&quot;: 59}, &quot;type&quot;: &quot;Feature&quot;}, {&quot;bbox&quot;: [24.934999999999995, 60.21500000000001, 24.934999999999995, 60.21500000000001], &quot;geometry&quot;: {&quot;coordinates&quot;: [24.934999999999995, 60.21500000000001], &quot;type&quot;: &quot;Point&quot;}, &quot;id&quot;: &quot;60&quot;, &quot;properties&quot;: {&quot;id&quot;: 60}, &quot;type&quot;: &quot;Feature&quot;}, {&quot;bbox&quot;: [24.934999999999995, 60.22000000000001, 24.934999999999995, 60.22000000000001], &quot;geometry&quot;: {&quot;coordinates&quot;: [24.934999999999995, 60.22000000000001], &quot;type&quot;: &quot;Point&quot;}, &quot;id&quot;: &quot;61&quot;, &quot;properties&quot;: {&quot;id&quot;: 61}, &quot;type&quot;: &quot;Feature&quot;}, {&quot;bbox&quot;: [24.934999999999995, 60.225000000000016, 24.934999999999995, 60.225000000000016], &quot;geometry&quot;: {&quot;coordinates&quot;: [24.934999999999995, 60.225000000000016], &quot;type&quot;: &quot;Point&quot;}, &quot;id&quot;: &quot;62&quot;, &quot;properties&quot;: {&quot;id&quot;: 62}, &quot;type&quot;: &quot;Feature&quot;}, {&quot;bbox&quot;: [24.934999999999995, 60.23000000000002, 24.934999999999995, 60.23000000000002], &quot;geometry&quot;: {&quot;coordinates&quot;: [24.934999999999995, 60.23000000000002], &quot;type&quot;: &quot;Point&quot;}, &quot;id&quot;: &quot;63&quot;, &quot;properties&quot;: {&quot;id&quot;: 63}, &quot;type&quot;: &quot;Feature&quot;}, {&quot;bbox&quot;: [24.934999999999995, 60.23500000000002, 24.934999999999995, 60.23500000000002], &quot;geometry&quot;: {&quot;coordinates&quot;: [24.934999999999995, 60.23500000000002], &quot;type&quot;: &quot;Point&quot;}, &quot;id&quot;: &quot;64&quot;, &quot;properties&quot;: {&quot;id&quot;: 64}, &quot;type&quot;: &quot;Feature&quot;}, {&quot;bbox&quot;: [24.934999999999995, 60.24000000000002, 24.934999999999995, 60.24000000000002], &quot;geometry&quot;: {&quot;coordinates&quot;: [24.934999999999995, 60.24000000000002], &quot;type&quot;: &quot;Point&quot;}, &quot;id&quot;: &quot;65&quot;, &quot;properties&quot;: {&quot;id&quot;: 65}, &quot;type&quot;: &quot;Feature&quot;}, {&quot;bbox&quot;: [24.939999999999994, 60.19, 24.939999999999994, 60.19], &quot;geometry&quot;: {&quot;coordinates&quot;: [24.939999999999994, 60.19], &quot;type&quot;: &quot;Point&quot;}, &quot;id&quot;: &quot;66&quot;, &quot;properties&quot;: {&quot;id&quot;: 66}, &quot;type&quot;: &quot;Feature&quot;}, {&quot;bbox&quot;: [24.939999999999994, 60.195, 24.939999999999994, 60.195], &quot;geometry&quot;: {&quot;coordinates&quot;: [24.939999999999994, 60.195], &quot;type&quot;: &quot;Point&quot;}, &quot;id&quot;: &quot;67&quot;, &quot;properties&quot;: {&quot;id&quot;: 67}, &quot;type&quot;: &quot;Feature&quot;}, {&quot;bbox&quot;: [24.939999999999994, 60.2, 24.939999999999994, 60.2], &quot;geometry&quot;: {&quot;coordinates&quot;: [24.939999999999994, 60.2], &quot;type&quot;: &quot;Point&quot;}, &quot;id&quot;: &quot;68&quot;, &quot;properties&quot;: {&quot;id&quot;: 68}, &quot;type&quot;: &quot;Feature&quot;}, {&quot;bbox&quot;: [24.939999999999994, 60.205000000000005, 24.939999999999994, 60.205000000000005], &quot;geometry&quot;: {&quot;coordinates&quot;: [24.939999999999994, 60.205000000000005], &quot;type&quot;: &quot;Point&quot;}, &quot;id&quot;: &quot;69&quot;, &quot;properties&quot;: {&quot;id&quot;: 69}, &quot;type&quot;: &quot;Feature&quot;}, {&quot;bbox&quot;: [24.939999999999994, 60.21000000000001, 24.939999999999994, 60.21000000000001], &quot;geometry&quot;: {&quot;coordinates&quot;: [24.939999999999994, 60.21000000000001], &quot;type&quot;: &quot;Point&quot;}, &quot;id&quot;: &quot;70&quot;, &quot;properties&quot;: {&quot;id&quot;: 70}, &quot;type&quot;: &quot;Feature&quot;}, {&quot;bbox&quot;: [24.939999999999994, 60.21500000000001, 24.939999999999994, 60.21500000000001], &quot;geometry&quot;: {&quot;coordinates&quot;: [24.939999999999994, 60.21500000000001], &quot;type&quot;: &quot;Point&quot;}, &quot;id&quot;: &quot;71&quot;, &quot;properties&quot;: {&quot;id&quot;: 71}, &quot;type&quot;: &quot;Feature&quot;}, {&quot;bbox&quot;: [24.939999999999994, 60.22000000000001, 24.939999999999994, 60.22000000000001], &quot;geometry&quot;: {&quot;coordinates&quot;: [24.939999999999994, 60.22000000000001], &quot;type&quot;: &quot;Point&quot;}, &quot;id&quot;: &quot;72&quot;, &quot;properties&quot;: {&quot;id&quot;: 72}, &quot;type&quot;: &quot;Feature&quot;}, {&quot;bbox&quot;: [24.939999999999994, 60.225000000000016, 24.939999999999994, 60.225000000000016], &quot;geometry&quot;: {&quot;coordinates&quot;: [24.939999999999994, 60.225000000000016], &quot;type&quot;: &quot;Point&quot;}, &quot;id&quot;: &quot;73&quot;, &quot;properties&quot;: {&quot;id&quot;: 73}, &quot;type&quot;: &quot;Feature&quot;}, {&quot;bbox&quot;: [24.939999999999994, 60.23000000000002, 24.939999999999994, 60.23000000000002], &quot;geometry&quot;: {&quot;coordinates&quot;: [24.939999999999994, 60.23000000000002], &quot;type&quot;: &quot;Point&quot;}, &quot;id&quot;: &quot;74&quot;, &quot;properties&quot;: {&quot;id&quot;: 74}, &quot;type&quot;: &quot;Feature&quot;}, {&quot;bbox&quot;: [24.939999999999994, 60.23500000000002, 24.939999999999994, 60.23500000000002], &quot;geometry&quot;: {&quot;coordinates&quot;: [24.939999999999994, 60.23500000000002], &quot;type&quot;: &quot;Point&quot;}, &quot;id&quot;: &quot;75&quot;, &quot;properties&quot;: {&quot;id&quot;: 75}, &quot;type&quot;: &quot;Feature&quot;}, {&quot;bbox&quot;: [24.939999999999994, 60.24000000000002, 24.939999999999994, 60.24000000000002], &quot;geometry&quot;: {&quot;coordinates&quot;: [24.939999999999994, 60.24000000000002], &quot;type&quot;: &quot;Point&quot;}, &quot;id&quot;: &quot;76&quot;, &quot;properties&quot;: {&quot;id&quot;: 76}, &quot;type&quot;: &quot;Feature&quot;}, {&quot;bbox&quot;: [24.944999999999993, 60.19, 24.944999999999993, 60.19], &quot;geometry&quot;: {&quot;coordinates&quot;: [24.944999999999993, 60.19], &quot;type&quot;: &quot;Point&quot;}, &quot;id&quot;: &quot;77&quot;, &quot;properties&quot;: {&quot;id&quot;: 77}, &quot;type&quot;: &quot;Feature&quot;}, {&quot;bbox&quot;: [24.944999999999993, 60.195, 24.944999999999993, 60.195], &quot;geometry&quot;: {&quot;coordinates&quot;: [24.944999999999993, 60.195], &quot;type&quot;: &quot;Point&quot;}, &quot;id&quot;: &quot;78&quot;, &quot;properties&quot;: {&quot;id&quot;: 78}, &quot;type&quot;: &quot;Feature&quot;}, {&quot;bbox&quot;: [24.944999999999993, 60.2, 24.944999999999993, 60.2], &quot;geometry&quot;: {&quot;coordinates&quot;: [24.944999999999993, 60.2], &quot;type&quot;: &quot;Point&quot;}, &quot;id&quot;: &quot;79&quot;, &quot;properties&quot;: {&quot;id&quot;: 79}, &quot;type&quot;: &quot;Feature&quot;}, {&quot;bbox&quot;: [24.944999999999993, 60.205000000000005, 24.944999999999993, 60.205000000000005], &quot;geometry&quot;: {&quot;coordinates&quot;: [24.944999999999993, 60.205000000000005], &quot;type&quot;: &quot;Point&quot;}, &quot;id&quot;: &quot;80&quot;, &quot;properties&quot;: {&quot;id&quot;: 80}, &quot;type&quot;: &quot;Feature&quot;}, {&quot;bbox&quot;: [24.944999999999993, 60.21000000000001, 24.944999999999993, 60.21000000000001], &quot;geometry&quot;: {&quot;coordinates&quot;: [24.944999999999993, 60.21000000000001], &quot;type&quot;: &quot;Point&quot;}, &quot;id&quot;: &quot;81&quot;, &quot;properties&quot;: {&quot;id&quot;: 81}, &quot;type&quot;: &quot;Feature&quot;}, {&quot;bbox&quot;: [24.944999999999993, 60.21500000000001, 24.944999999999993, 60.21500000000001], &quot;geometry&quot;: {&quot;coordinates&quot;: [24.944999999999993, 60.21500000000001], &quot;type&quot;: &quot;Point&quot;}, &quot;id&quot;: &quot;82&quot;, &quot;properties&quot;: {&quot;id&quot;: 82}, &quot;type&quot;: &quot;Feature&quot;}, {&quot;bbox&quot;: [24.944999999999993, 60.22000000000001, 24.944999999999993, 60.22000000000001], &quot;geometry&quot;: {&quot;coordinates&quot;: [24.944999999999993, 60.22000000000001], &quot;type&quot;: &quot;Point&quot;}, &quot;id&quot;: &quot;83&quot;, &quot;properties&quot;: {&quot;id&quot;: 83}, &quot;type&quot;: &quot;Feature&quot;}, {&quot;bbox&quot;: [24.944999999999993, 60.225000000000016, 24.944999999999993, 60.225000000000016], &quot;geometry&quot;: {&quot;coordinates&quot;: [24.944999999999993, 60.225000000000016], &quot;type&quot;: &quot;Point&quot;}, &quot;id&quot;: &quot;84&quot;, &quot;properties&quot;: {&quot;id&quot;: 84}, &quot;type&quot;: &quot;Feature&quot;}, {&quot;bbox&quot;: [24.944999999999993, 60.23000000000002, 24.944999999999993, 60.23000000000002], &quot;geometry&quot;: {&quot;coordinates&quot;: [24.944999999999993, 60.23000000000002], &quot;type&quot;: &quot;Point&quot;}, &quot;id&quot;: &quot;85&quot;, &quot;properties&quot;: {&quot;id&quot;: 85}, &quot;type&quot;: &quot;Feature&quot;}, {&quot;bbox&quot;: [24.944999999999993, 60.23500000000002, 24.944999999999993, 60.23500000000002], &quot;geometry&quot;: {&quot;coordinates&quot;: [24.944999999999993, 60.23500000000002], &quot;type&quot;: &quot;Point&quot;}, &quot;id&quot;: &quot;86&quot;, &quot;properties&quot;: {&quot;id&quot;: 86}, &quot;type&quot;: &quot;Feature&quot;}, {&quot;bbox&quot;: [24.944999999999993, 60.24000000000002, 24.944999999999993, 60.24000000000002], &quot;geometry&quot;: {&quot;coordinates&quot;: [24.944999999999993, 60.24000000000002], &quot;type&quot;: &quot;Point&quot;}, &quot;id&quot;: &quot;87&quot;, &quot;properties&quot;: {&quot;id&quot;: 87}, &quot;type&quot;: &quot;Feature&quot;}, {&quot;bbox&quot;: [24.949999999999992, 60.19, 24.949999999999992, 60.19], &quot;geometry&quot;: {&quot;coordinates&quot;: [24.949999999999992, 60.19], &quot;type&quot;: &quot;Point&quot;}, &quot;id&quot;: &quot;88&quot;, &quot;properties&quot;: {&quot;id&quot;: 88}, &quot;type&quot;: &quot;Feature&quot;}, {&quot;bbox&quot;: [24.949999999999992, 60.195, 24.949999999999992, 60.195], &quot;geometry&quot;: {&quot;coordinates&quot;: [24.949999999999992, 60.195], &quot;type&quot;: &quot;Point&quot;}, &quot;id&quot;: &quot;89&quot;, &quot;properties&quot;: {&quot;id&quot;: 89}, &quot;type&quot;: &quot;Feature&quot;}, {&quot;bbox&quot;: [24.949999999999992, 60.2, 24.949999999999992, 60.2], &quot;geometry&quot;: {&quot;coordinates&quot;: [24.949999999999992, 60.2], &quot;type&quot;: &quot;Point&quot;}, &quot;id&quot;: &quot;90&quot;, &quot;properties&quot;: {&quot;id&quot;: 90}, &quot;type&quot;: &quot;Feature&quot;}, {&quot;bbox&quot;: [24.949999999999992, 60.205000000000005, 24.949999999999992, 60.205000000000005], &quot;geometry&quot;: {&quot;coordinates&quot;: [24.949999999999992, 60.205000000000005], &quot;type&quot;: &quot;Point&quot;}, &quot;id&quot;: &quot;91&quot;, &quot;properties&quot;: {&quot;id&quot;: 91}, &quot;type&quot;: &quot;Feature&quot;}, {&quot;bbox&quot;: [24.949999999999992, 60.21000000000001, 24.949999999999992, 60.21000000000001], &quot;geometry&quot;: {&quot;coordinates&quot;: [24.949999999999992, 60.21000000000001], &quot;type&quot;: &quot;Point&quot;}, &quot;id&quot;: &quot;92&quot;, &quot;properties&quot;: {&quot;id&quot;: 92}, &quot;type&quot;: &quot;Feature&quot;}, {&quot;bbox&quot;: [24.949999999999992, 60.21500000000001, 24.949999999999992, 60.21500000000001], &quot;geometry&quot;: {&quot;coordinates&quot;: [24.949999999999992, 60.21500000000001], &quot;type&quot;: &quot;Point&quot;}, &quot;id&quot;: &quot;93&quot;, &quot;properties&quot;: {&quot;id&quot;: 93}, &quot;type&quot;: &quot;Feature&quot;}, {&quot;bbox&quot;: [24.949999999999992, 60.22000000000001, 24.949999999999992, 60.22000000000001], &quot;geometry&quot;: {&quot;coordinates&quot;: [24.949999999999992, 60.22000000000001], &quot;type&quot;: &quot;Point&quot;}, &quot;id&quot;: &quot;94&quot;, &quot;properties&quot;: {&quot;id&quot;: 94}, &quot;type&quot;: &quot;Feature&quot;}, {&quot;bbox&quot;: [24.949999999999992, 60.225000000000016, 24.949999999999992, 60.225000000000016], &quot;geometry&quot;: {&quot;coordinates&quot;: [24.949999999999992, 60.225000000000016], &quot;type&quot;: &quot;Point&quot;}, &quot;id&quot;: &quot;95&quot;, &quot;properties&quot;: {&quot;id&quot;: 95}, &quot;type&quot;: &quot;Feature&quot;}, {&quot;bbox&quot;: [24.949999999999992, 60.23000000000002, 24.949999999999992, 60.23000000000002], &quot;geometry&quot;: {&quot;coordinates&quot;: [24.949999999999992, 60.23000000000002], &quot;type&quot;: &quot;Point&quot;}, &quot;id&quot;: &quot;96&quot;, &quot;properties&quot;: {&quot;id&quot;: 96}, &quot;type&quot;: &quot;Feature&quot;}, {&quot;bbox&quot;: [24.949999999999992, 60.23500000000002, 24.949999999999992, 60.23500000000002], &quot;geometry&quot;: {&quot;coordinates&quot;: [24.949999999999992, 60.23500000000002], &quot;type&quot;: &quot;Point&quot;}, &quot;id&quot;: &quot;97&quot;, &quot;properties&quot;: {&quot;id&quot;: 97}, &quot;type&quot;: &quot;Feature&quot;}, {&quot;bbox&quot;: [24.949999999999992, 60.24000000000002, 24.949999999999992, 60.24000000000002], &quot;geometry&quot;: {&quot;coordinates&quot;: [24.949999999999992, 60.24000000000002], &quot;type&quot;: &quot;Point&quot;}, &quot;id&quot;: &quot;98&quot;, &quot;properties&quot;: {&quot;id&quot;: 98}, &quot;type&quot;: &quot;Feature&quot;}, {&quot;bbox&quot;: [24.95499999999999, 60.19, 24.95499999999999, 60.19], &quot;geometry&quot;: {&quot;coordinates&quot;: [24.95499999999999, 60.19], &quot;type&quot;: &quot;Point&quot;}, &quot;id&quot;: &quot;99&quot;, &quot;properties&quot;: {&quot;id&quot;: 99}, &quot;type&quot;: &quot;Feature&quot;}, {&quot;bbox&quot;: [24.95499999999999, 60.195, 24.95499999999999, 60.195], &quot;geometry&quot;: {&quot;coordinates&quot;: [24.95499999999999, 60.195], &quot;type&quot;: &quot;Point&quot;}, &quot;id&quot;: &quot;100&quot;, &quot;properties&quot;: {&quot;id&quot;: 100}, &quot;type&quot;: &quot;Feature&quot;}, {&quot;bbox&quot;: [24.95499999999999, 60.2, 24.95499999999999, 60.2], &quot;geometry&quot;: {&quot;coordinates&quot;: [24.95499999999999, 60.2], &quot;type&quot;: &quot;Point&quot;}, &quot;id&quot;: &quot;101&quot;, &quot;properties&quot;: {&quot;id&quot;: 101}, &quot;type&quot;: &quot;Feature&quot;}, {&quot;bbox&quot;: [24.95499999999999, 60.205000000000005, 24.95499999999999, 60.205000000000005], &quot;geometry&quot;: {&quot;coordinates&quot;: [24.95499999999999, 60.205000000000005], &quot;type&quot;: &quot;Point&quot;}, &quot;id&quot;: &quot;102&quot;, &quot;properties&quot;: {&quot;id&quot;: 102}, &quot;type&quot;: &quot;Feature&quot;}, {&quot;bbox&quot;: [24.95499999999999, 60.21000000000001, 24.95499999999999, 60.21000000000001], &quot;geometry&quot;: {&quot;coordinates&quot;: [24.95499999999999, 60.21000000000001], &quot;type&quot;: &quot;Point&quot;}, &quot;id&quot;: &quot;103&quot;, &quot;properties&quot;: {&quot;id&quot;: 103}, &quot;type&quot;: &quot;Feature&quot;}, {&quot;bbox&quot;: [24.95499999999999, 60.21500000000001, 24.95499999999999, 60.21500000000001], &quot;geometry&quot;: {&quot;coordinates&quot;: [24.95499999999999, 60.21500000000001], &quot;type&quot;: &quot;Point&quot;}, &quot;id&quot;: &quot;104&quot;, &quot;properties&quot;: {&quot;id&quot;: 104}, &quot;type&quot;: &quot;Feature&quot;}, {&quot;bbox&quot;: [24.95499999999999, 60.22000000000001, 24.95499999999999, 60.22000000000001], &quot;geometry&quot;: {&quot;coordinates&quot;: [24.95499999999999, 60.22000000000001], &quot;type&quot;: &quot;Point&quot;}, &quot;id&quot;: &quot;105&quot;, &quot;properties&quot;: {&quot;id&quot;: 105}, &quot;type&quot;: &quot;Feature&quot;}, {&quot;bbox&quot;: [24.95499999999999, 60.225000000000016, 24.95499999999999, 60.225000000000016], &quot;geometry&quot;: {&quot;coordinates&quot;: [24.95499999999999, 60.225000000000016], &quot;type&quot;: &quot;Point&quot;}, &quot;id&quot;: &quot;106&quot;, &quot;properties&quot;: {&quot;id&quot;: 106}, &quot;type&quot;: &quot;Feature&quot;}, {&quot;bbox&quot;: [24.95499999999999, 60.23000000000002, 24.95499999999999, 60.23000000000002], &quot;geometry&quot;: {&quot;coordinates&quot;: [24.95499999999999, 60.23000000000002], &quot;type&quot;: &quot;Point&quot;}, &quot;id&quot;: &quot;107&quot;, &quot;properties&quot;: {&quot;id&quot;: 107}, &quot;type&quot;: &quot;Feature&quot;}, {&quot;bbox&quot;: [24.95499999999999, 60.23500000000002, 24.95499999999999, 60.23500000000002], &quot;geometry&quot;: {&quot;coordinates&quot;: [24.95499999999999, 60.23500000000002], &quot;type&quot;: &quot;Point&quot;}, &quot;id&quot;: &quot;108&quot;, &quot;properties&quot;: {&quot;id&quot;: 108}, &quot;type&quot;: &quot;Feature&quot;}, {&quot;bbox&quot;: [24.95499999999999, 60.24000000000002, 24.95499999999999, 60.24000000000002], &quot;geometry&quot;: {&quot;coordinates&quot;: [24.95499999999999, 60.24000000000002], &quot;type&quot;: &quot;Point&quot;}, &quot;id&quot;: &quot;109&quot;, &quot;properties&quot;: {&quot;id&quot;: 109}, &quot;type&quot;: &quot;Feature&quot;}, {&quot;bbox&quot;: [24.95999999999999, 60.19, 24.95999999999999, 60.19], &quot;geometry&quot;: {&quot;coordinates&quot;: [24.95999999999999, 60.19], &quot;type&quot;: &quot;Point&quot;}, &quot;id&quot;: &quot;110&quot;, &quot;properties&quot;: {&quot;id&quot;: 110}, &quot;type&quot;: &quot;Feature&quot;}, {&quot;bbox&quot;: [24.95999999999999, 60.195, 24.95999999999999, 60.195], &quot;geometry&quot;: {&quot;coordinates&quot;: [24.95999999999999, 60.195], &quot;type&quot;: &quot;Point&quot;}, &quot;id&quot;: &quot;111&quot;, &quot;properties&quot;: {&quot;id&quot;: 111}, &quot;type&quot;: &quot;Feature&quot;}, {&quot;bbox&quot;: [24.95999999999999, 60.2, 24.95999999999999, 60.2], &quot;geometry&quot;: {&quot;coordinates&quot;: [24.95999999999999, 60.2], &quot;type&quot;: &quot;Point&quot;}, &quot;id&quot;: &quot;112&quot;, &quot;properties&quot;: {&quot;id&quot;: 112}, &quot;type&quot;: &quot;Feature&quot;}, {&quot;bbox&quot;: [24.95999999999999, 60.205000000000005, 24.95999999999999, 60.205000000000005], &quot;geometry&quot;: {&quot;coordinates&quot;: [24.95999999999999, 60.205000000000005], &quot;type&quot;: &quot;Point&quot;}, &quot;id&quot;: &quot;113&quot;, &quot;properties&quot;: {&quot;id&quot;: 113}, &quot;type&quot;: &quot;Feature&quot;}, {&quot;bbox&quot;: [24.95999999999999, 60.21000000000001, 24.95999999999999, 60.21000000000001], &quot;geometry&quot;: {&quot;coordinates&quot;: [24.95999999999999, 60.21000000000001], &quot;type&quot;: &quot;Point&quot;}, &quot;id&quot;: &quot;114&quot;, &quot;properties&quot;: {&quot;id&quot;: 114}, &quot;type&quot;: &quot;Feature&quot;}, {&quot;bbox&quot;: [24.95999999999999, 60.21500000000001, 24.95999999999999, 60.21500000000001], &quot;geometry&quot;: {&quot;coordinates&quot;: [24.95999999999999, 60.21500000000001], &quot;type&quot;: &quot;Point&quot;}, &quot;id&quot;: &quot;115&quot;, &quot;properties&quot;: {&quot;id&quot;: 115}, &quot;type&quot;: &quot;Feature&quot;}, {&quot;bbox&quot;: [24.95999999999999, 60.22000000000001, 24.95999999999999, 60.22000000000001], &quot;geometry&quot;: {&quot;coordinates&quot;: [24.95999999999999, 60.22000000000001], &quot;type&quot;: &quot;Point&quot;}, &quot;id&quot;: &quot;116&quot;, &quot;properties&quot;: {&quot;id&quot;: 116}, &quot;type&quot;: &quot;Feature&quot;}, {&quot;bbox&quot;: [24.95999999999999, 60.225000000000016, 24.95999999999999, 60.225000000000016], &quot;geometry&quot;: {&quot;coordinates&quot;: [24.95999999999999, 60.225000000000016], &quot;type&quot;: &quot;Point&quot;}, &quot;id&quot;: &quot;117&quot;, &quot;properties&quot;: {&quot;id&quot;: 117}, &quot;type&quot;: &quot;Feature&quot;}, {&quot;bbox&quot;: [24.95999999999999, 60.23000000000002, 24.95999999999999, 60.23000000000002], &quot;geometry&quot;: {&quot;coordinates&quot;: [24.95999999999999, 60.23000000000002], &quot;type&quot;: &quot;Point&quot;}, &quot;id&quot;: &quot;118&quot;, &quot;properties&quot;: {&quot;id&quot;: 118}, &quot;type&quot;: &quot;Feature&quot;}, {&quot;bbox&quot;: [24.95999999999999, 60.23500000000002, 24.95999999999999, 60.23500000000002], &quot;geometry&quot;: {&quot;coordinates&quot;: [24.95999999999999, 60.23500000000002], &quot;type&quot;: &quot;Point&quot;}, &quot;id&quot;: &quot;119&quot;, &quot;properties&quot;: {&quot;id&quot;: 119}, &quot;type&quot;: &quot;Feature&quot;}, {&quot;bbox&quot;: [24.95999999999999, 60.24000000000002, 24.95999999999999, 60.24000000000002], &quot;geometry&quot;: {&quot;coordinates&quot;: [24.95999999999999, 60.24000000000002], &quot;type&quot;: &quot;Point&quot;}, &quot;id&quot;: &quot;120&quot;, &quot;properties&quot;: {&quot;id&quot;: 120}, &quot;type&quot;: &quot;Feature&quot;}, {&quot;bbox&quot;: [24.96499999999999, 60.19, 24.96499999999999, 60.19], &quot;geometry&quot;: {&quot;coordinates&quot;: [24.96499999999999, 60.19], &quot;type&quot;: &quot;Point&quot;}, &quot;id&quot;: &quot;121&quot;, &quot;properties&quot;: {&quot;id&quot;: 121}, &quot;type&quot;: &quot;Feature&quot;}, {&quot;bbox&quot;: [24.96499999999999, 60.195, 24.96499999999999, 60.195], &quot;geometry&quot;: {&quot;coordinates&quot;: [24.96499999999999, 60.195], &quot;type&quot;: &quot;Point&quot;}, &quot;id&quot;: &quot;122&quot;, &quot;properties&quot;: {&quot;id&quot;: 122}, &quot;type&quot;: &quot;Feature&quot;}, {&quot;bbox&quot;: [24.96499999999999, 60.2, 24.96499999999999, 60.2], &quot;geometry&quot;: {&quot;coordinates&quot;: [24.96499999999999, 60.2], &quot;type&quot;: &quot;Point&quot;}, &quot;id&quot;: &quot;123&quot;, &quot;properties&quot;: {&quot;id&quot;: 123}, &quot;type&quot;: &quot;Feature&quot;}, {&quot;bbox&quot;: [24.96499999999999, 60.205000000000005, 24.96499999999999, 60.205000000000005], &quot;geometry&quot;: {&quot;coordinates&quot;: [24.96499999999999, 60.205000000000005], &quot;type&quot;: &quot;Point&quot;}, &quot;id&quot;: &quot;124&quot;, &quot;properties&quot;: {&quot;id&quot;: 124}, &quot;type&quot;: &quot;Feature&quot;}, {&quot;bbox&quot;: [24.96499999999999, 60.21000000000001, 24.96499999999999, 60.21000000000001], &quot;geometry&quot;: {&quot;coordinates&quot;: [24.96499999999999, 60.21000000000001], &quot;type&quot;: &quot;Point&quot;}, &quot;id&quot;: &quot;125&quot;, &quot;properties&quot;: {&quot;id&quot;: 125}, &quot;type&quot;: &quot;Feature&quot;}, {&quot;bbox&quot;: [24.96499999999999, 60.21500000000001, 24.96499999999999, 60.21500000000001], &quot;geometry&quot;: {&quot;coordinates&quot;: [24.96499999999999, 60.21500000000001], &quot;type&quot;: &quot;Point&quot;}, &quot;id&quot;: &quot;126&quot;, &quot;properties&quot;: {&quot;id&quot;: 126}, &quot;type&quot;: &quot;Feature&quot;}, {&quot;bbox&quot;: [24.96499999999999, 60.22000000000001, 24.96499999999999, 60.22000000000001], &quot;geometry&quot;: {&quot;coordinates&quot;: [24.96499999999999, 60.22000000000001], &quot;type&quot;: &quot;Point&quot;}, &quot;id&quot;: &quot;127&quot;, &quot;properties&quot;: {&quot;id&quot;: 127}, &quot;type&quot;: &quot;Feature&quot;}, {&quot;bbox&quot;: [24.96499999999999, 60.225000000000016, 24.96499999999999, 60.225000000000016], &quot;geometry&quot;: {&quot;coordinates&quot;: [24.96499999999999, 60.225000000000016], &quot;type&quot;: &quot;Point&quot;}, &quot;id&quot;: &quot;128&quot;, &quot;properties&quot;: {&quot;id&quot;: 128}, &quot;type&quot;: &quot;Feature&quot;}, {&quot;bbox&quot;: [24.96499999999999, 60.23000000000002, 24.96499999999999, 60.23000000000002], &quot;geometry&quot;: {&quot;coordinates&quot;: [24.96499999999999, 60.23000000000002], &quot;type&quot;: &quot;Point&quot;}, &quot;id&quot;: &quot;129&quot;, &quot;properties&quot;: {&quot;id&quot;: 129}, &quot;type&quot;: &quot;Feature&quot;}, {&quot;bbox&quot;: [24.96499999999999, 60.23500000000002, 24.96499999999999, 60.23500000000002], &quot;geometry&quot;: {&quot;coordinates&quot;: [24.96499999999999, 60.23500000000002], &quot;type&quot;: &quot;Point&quot;}, &quot;id&quot;: &quot;130&quot;, &quot;properties&quot;: {&quot;id&quot;: 130}, &quot;type&quot;: &quot;Feature&quot;}, {&quot;bbox&quot;: [24.96499999999999, 60.24000000000002, 24.96499999999999, 60.24000000000002], &quot;geometry&quot;: {&quot;coordinates&quot;: [24.96499999999999, 60.24000000000002], &quot;type&quot;: &quot;Point&quot;}, &quot;id&quot;: &quot;131&quot;, &quot;properties&quot;: {&quot;id&quot;: 131}, &quot;type&quot;: &quot;Feature&quot;}], &quot;type&quot;: &quot;FeatureCollection&quot;});\n",
       "\n",
       "        \n",
       "    \n",
       "    geo_json_27f68c82ec52bf6c8bfcc265b09d664e.bindTooltip(\n",
       "    function(layer){\n",
       "    let div = L.DomUtil.create(&#x27;div&#x27;);\n",
       "    \n",
       "    let handleObject = feature=&gt;typeof(feature)==&#x27;object&#x27; ? JSON.stringify(feature) : feature;\n",
       "    let fields = [&quot;id&quot;];\n",
       "    let aliases = [&quot;id&quot;];\n",
       "    let table = &#x27;&lt;table&gt;&#x27; +\n",
       "        String(\n",
       "        fields.map(\n",
       "        (v,i)=&gt;\n",
       "        `&lt;tr&gt;\n",
       "            &lt;th&gt;${aliases[i]}&lt;/th&gt;\n",
       "            \n",
       "            &lt;td&gt;${handleObject(layer.feature.properties[v])}&lt;/td&gt;\n",
       "        &lt;/tr&gt;`).join(&#x27;&#x27;))\n",
       "    +&#x27;&lt;/table&gt;&#x27;;\n",
       "    div.innerHTML=table;\n",
       "    \n",
       "    return div\n",
       "    }\n",
       "    ,{&quot;className&quot;: &quot;foliumtooltip&quot;, &quot;sticky&quot;: true});\n",
       "                     \n",
       "&lt;/script&gt;\" style=\"position:absolute;width:100%;height:100%;left:0;top:0;border:none !important;\" allowfullscreen webkitallowfullscreen mozallowfullscreen></iframe></div></div>"
      ],
      "text/plain": [
       "<folium.folium.Map at 0x7f8ec8c43460>"
      ]
     },
     "execution_count": 4,
     "metadata": {},
     "output_type": "execute_result"
    }
   ],
   "source": [
    "grid_points.explore(marker_kwds={\"radius\": 6, \"color\": \"red\"})"
   ]
  },
  {
   "cell_type": "markdown",
   "id": "3f1cdb94-b40f-4b83-8be2-a813b2833fef",
   "metadata": {},
   "source": [
    "Now, to compute a travel time matrix between all `grid_points`, we first instantiate an `r5py.TravelTimeMatrix` with the transport network we created earlier, and a list of origins (since we don’t specify a separate set of destinations, r5py will use the same points as destinations and produce a full set of origins and destinations). The constructor also accepts all parameters of [RegionalTask](reference.html#r5py.RegionalTask), such as transport modes, or walking speed. \n",
    "\n",
    "Calling `compute_travel_times()` on the instance will return a `pandas.DataFrame` with travel times between all points."
   ]
  },
  {
   "cell_type": "code",
   "execution_count": 5,
   "id": "b5dabcc1-95a4-4c9f-86ab-533d2c752716",
   "metadata": {},
   "outputs": [
    {
     "data": {
      "text/html": [
       "<div>\n",
       "<style scoped>\n",
       "    .dataframe tbody tr th:only-of-type {\n",
       "        vertical-align: middle;\n",
       "    }\n",
       "\n",
       "    .dataframe tbody tr th {\n",
       "        vertical-align: top;\n",
       "    }\n",
       "\n",
       "    .dataframe thead th {\n",
       "        text-align: right;\n",
       "    }\n",
       "</style>\n",
       "<table border=\"1\" class=\"dataframe\">\n",
       "  <thead>\n",
       "    <tr style=\"text-align: right;\">\n",
       "      <th></th>\n",
       "      <th>from_id</th>\n",
       "      <th>to_id</th>\n",
       "      <th>travel_time</th>\n",
       "    </tr>\n",
       "  </thead>\n",
       "  <tbody>\n",
       "    <tr>\n",
       "      <th>0</th>\n",
       "      <td>0</td>\n",
       "      <td>0</td>\n",
       "      <td>20</td>\n",
       "    </tr>\n",
       "    <tr>\n",
       "      <th>1</th>\n",
       "      <td>0</td>\n",
       "      <td>1</td>\n",
       "      <td>11</td>\n",
       "    </tr>\n",
       "    <tr>\n",
       "      <th>2</th>\n",
       "      <td>0</td>\n",
       "      <td>2</td>\n",
       "      <td>0</td>\n",
       "    </tr>\n",
       "    <tr>\n",
       "      <th>3</th>\n",
       "      <td>0</td>\n",
       "      <td>3</td>\n",
       "      <td>12</td>\n",
       "    </tr>\n",
       "    <tr>\n",
       "      <th>4</th>\n",
       "      <td>0</td>\n",
       "      <td>4</td>\n",
       "      <td>21</td>\n",
       "    </tr>\n",
       "    <tr>\n",
       "      <th>...</th>\n",
       "      <td>...</td>\n",
       "      <td>...</td>\n",
       "      <td>...</td>\n",
       "    </tr>\n",
       "    <tr>\n",
       "      <th>127</th>\n",
       "      <td>131</td>\n",
       "      <td>127</td>\n",
       "      <td>33</td>\n",
       "    </tr>\n",
       "    <tr>\n",
       "      <th>128</th>\n",
       "      <td>131</td>\n",
       "      <td>128</td>\n",
       "      <td>31</td>\n",
       "    </tr>\n",
       "    <tr>\n",
       "      <th>129</th>\n",
       "      <td>131</td>\n",
       "      <td>129</td>\n",
       "      <td>21</td>\n",
       "    </tr>\n",
       "    <tr>\n",
       "      <th>130</th>\n",
       "      <td>131</td>\n",
       "      <td>130</td>\n",
       "      <td>12</td>\n",
       "    </tr>\n",
       "    <tr>\n",
       "      <th>131</th>\n",
       "      <td>131</td>\n",
       "      <td>131</td>\n",
       "      <td>0</td>\n",
       "    </tr>\n",
       "  </tbody>\n",
       "</table>\n",
       "<p>17424 rows × 3 columns</p>\n",
       "</div>"
      ],
      "text/plain": [
       "     from_id  to_id  travel_time\n",
       "0          0      0           20\n",
       "1          0      1           11\n",
       "2          0      2            0\n",
       "3          0      3           12\n",
       "4          0      4           21\n",
       "..       ...    ...          ...\n",
       "127      131    127           33\n",
       "128      131    128           31\n",
       "129      131    129           21\n",
       "130      131    130           12\n",
       "131      131    131            0\n",
       "\n",
       "[17424 rows x 3 columns]"
      ]
     },
     "execution_count": 5,
     "metadata": {},
     "output_type": "execute_result"
    }
   ],
   "source": [
    "import datetime\n",
    "\n",
    "from r5py import TravelTimeMatrix, TransitMode, LegMode\n",
    "\n",
    "\n",
    "travel_time_matrix = TravelTimeMatrix(\n",
    "    transport_network,\n",
    "    origins=grid_points,\n",
    "    departure=datetime.datetime(2022,2,22,8,30),\n",
    "    transport_modes=[TransitMode.TRANSIT, LegMode.WALK],\n",
    "    #percentiles=[1,25,50,75,99],\n",
    "    #breakdown=True\n",
    ")\n",
    "travel_times = travel_time_matrix.compute_travel_times()\n",
    "travel_times"
   ]
  },
  {
   "cell_type": "markdown",
   "id": "4a837f5b-1269-47eb-aa53-5329fb800b90",
   "metadata": {},
   "source": [
    "The values in the `travel_time` column are travel times between the points identified by `from_id` and `to_id`, in minutes. \n",
    "\n",
    "The median travel time to or from a certain point gives a good estimate of the overall accessibility to or from it, in relation to other points:"
   ]
  },
  {
   "cell_type": "code",
   "execution_count": 6,
   "id": "d026f1e6-05ca-4c9d-ba5b-f45d7ac69d85",
   "metadata": {
    "tags": []
   },
   "outputs": [
    {
     "data": {
      "text/plain": [
       "from_id\n",
       "0      36.0\n",
       "1      36.0\n",
       "2      30.0\n",
       "3      31.0\n",
       "4      31.0\n",
       "       ... \n",
       "127    28.0\n",
       "128    28.0\n",
       "129    26.0\n",
       "130    27.0\n",
       "131    37.0\n",
       "Name: travel_time, Length: 132, dtype: float64"
      ]
     },
     "execution_count": 6,
     "metadata": {},
     "output_type": "execute_result"
    }
   ],
   "source": [
    "travel_times.groupby(\"from_id\")[\"travel_time\"].median()"
   ]
  },
  {
   "cell_type": "code",
   "execution_count": 7,
   "id": "0efc3964-68a5-401d-8e4a-323fc44b5f3f",
   "metadata": {},
   "outputs": [
    {
     "data": {
      "text/plain": [
       "29.0"
      ]
     },
     "execution_count": 7,
     "metadata": {},
     "output_type": "execute_result"
    }
   ],
   "source": [
    "travel_times.groupby(\"from_id\")[\"travel_time\"].median().median()"
   ]
  }
 ],
 "metadata": {
  "kernelspec": {
   "display_name": "Python 3 (ipykernel)",
   "language": "python",
   "name": "python3"
  },
  "language_info": {
   "codemirror_mode": {
    "name": "ipython",
    "version": 3
   },
   "file_extension": ".py",
   "mimetype": "text/x-python",
   "name": "python",
   "nbconvert_exporter": "python",
   "pygments_lexer": "ipython3",
   "version": "3.10.4"
  }
 },
 "nbformat": 4,
 "nbformat_minor": 5
}